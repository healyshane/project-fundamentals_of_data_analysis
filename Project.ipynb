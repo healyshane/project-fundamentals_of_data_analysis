{
 "cells": [
  {
   "cell_type": "markdown",
   "metadata": {},
   "source": [
    "# Boxplots\n",
    "<div style=\"text-align: right\"> Fundamentals of Data Analysis</div>\n",
    "<div style=\"text-align: right\"> Shane Healy, DEC-2018</div>"
   ]
  },
  {
   "cell_type": "markdown",
   "metadata": {},
   "source": [
    "## Problem statement\n",
    "\n",
    "The box plot is common in data analysis for investigating individual numerical variables.\n",
    "In this project, you will investigate and explain box plots and their uses. The boxplot\n",
    "function from the Python package matplotlib.pyplot can be used to create box plots.\n",
    "Your submission should be in the form of a repository containing a Jupyter notebook in\n",
    "which you detail your findings. In your notebook, you should:\n",
    "\n",
    "* Summarise the history of the box plot and situations in which it used.\n",
    "* Demonstrate the use of the box plot using data of your choosing.\n",
    "* Explain any relevant terminology such as the terms quartile and percentile.\n",
    "* Compare the box plot to alternatives."
   ]
  },
  {
   "cell_type": "markdown",
   "metadata": {},
   "source": [
    "# History of the Boxplot"
   ]
  },
  {
   "cell_type": "markdown",
   "metadata": {},
   "source": [
    "Boxplots were introduced by John Tukey in 1969. John Tukey was a pioneer of computer science, worked in Bell Labs and was a Professor in Princeton University <sup>[1](https://en.wikipedia.org/wiki/Box_plot)</sup>. \n",
    "\n",
    "His book, Exploratory Data Analysis, published in 1977, made the data visualisation technique of boxplots popular. Tukey’s starting point for boxplots was the range-bar, introduced in the 1950's. He added appropriate summary statistics that worked for a wide range of data. The modern view of a boxplot was referred by Tukey as a schematic plot i.e. a box and whiskers plot with some special restrictions on the summary statistics used <sup>[2](http://vita.had.co.nz/papers/boxplots.pdf)</sup>.\n",
    "\n",
    "The idea of showing median and quartiles as basic summaries pre-dates Tukey and were used by geographers as dispersion diagrams from the late 1930's on. Range bars and whiskers were also in use prior to Tukey. Tukey's version of boxplots was original because of the criteria for identifying points in the tails to be plotted separately and identified as deserving detailed consideration <sup>[3](https://stats.stackexchange.com/questions/369393/whats-the-history-of-box-plots-and-how-did-the-box-and-whiskers-design-evolv)</sup>.\n",
    "\n",
    "\n"
   ]
  },
  {
   "cell_type": "code",
   "execution_count": 26,
   "metadata": {},
   "outputs": [],
   "source": [
    "# Import the required packages that will be used in this notebook.\n",
    "import matplotlib.pyplot as plt\n",
    "import numpy as np"
   ]
  },
  {
   "cell_type": "markdown",
   "metadata": {},
   "source": [
    "# Description of Boxplots"
   ]
  },
  {
   "cell_type": "markdown",
   "metadata": {},
   "source": [
    "Box Plots are a compact and efficient way to visualise the distribution, variability and dispersion, of data. \n",
    "\n",
    "A diagram on how to read a Box Plot <sup>[4](http://visualoop.com/blog/32470/a-look-at-box-plots)</sup> is shown below.\n",
    "\n",
    "![Reading Box Plot](http://visualoop.com/media/2015/04/box_plot_anatomy.png)\n"
   ]
  },
  {
   "cell_type": "markdown",
   "metadata": {},
   "source": [
    "## Median\n",
    "The median is the middle value in data set. This differs from the mean or average as shown with below example."
   ]
  },
  {
   "cell_type": "code",
   "execution_count": 27,
   "metadata": {},
   "outputs": [
    {
     "name": "stdout",
     "output_type": "stream",
     "text": [
      "For y data set, (1, 4, 9, 16, 25) , the median and mean are 9.0 and 11.0\n"
     ]
    }
   ],
   "source": [
    "y = (1,4,9,16,25)\n",
    "print(\"For y data set,\",y,\", the median and mean are\",np.median(y),\"and\",np.mean(y))"
   ]
  },
  {
   "cell_type": "markdown",
   "metadata": {},
   "source": [
    "## Quartile"
   ]
  },
  {
   "cell_type": "markdown",
   "metadata": {},
   "source": [
    "## Percentile"
   ]
  },
  {
   "cell_type": "markdown",
   "metadata": {},
   "source": [
    "## Lower Quartile / 25th Percentile / First Quartile / Q1\n",
    "The first quartile is the middle number between the smallest number, lower extreme in above diagram, and the median of the dataset <sup>[5](https://towardsdatascience.com/understanding-boxplots-5e2df7bcbd51)</sup>.\n",
    "\n",
    "\n"
   ]
  },
  {
   "cell_type": "markdown",
   "metadata": {},
   "source": [
    "## Upper Quartile / 75th Percentile / Third Quartile / Q3\n",
    "The third quartile is the middle value between the median and the highest value, upper extreme in above diagram, of the dataset. <sup>[5](https://towardsdatascience.com/understanding-boxplots-5e2df7bcbd51)</sup>."
   ]
  },
  {
   "cell_type": "markdown",
   "metadata": {},
   "source": [
    "## Interquartile Range / IQR\n",
    "The interquartile range is the range where fifty percent of the data points reside. It is calculated by subtracting the First Quartile from the Third Quartile(Q3-Q1) <sup>[6](https://en.wikipedia.org/wiki/Interquartile_range)</sup>. \n",
    "\n",
    "\n"
   ]
  },
  {
   "cell_type": "code",
   "execution_count": null,
   "metadata": {},
   "outputs": [],
   "source": []
  },
  {
   "cell_type": "markdown",
   "metadata": {},
   "source": [
    "## Whisker\n",
    "The whisker in a box plot begins at the first or third quartile and reaches out to terminate at a point that is defined by the user. The reach of the whisker is a function of the Interquartile Range, IQR. The default for many software applications including the Python matplotlib.pyplot package is IQR*1.5.  \n",
    "\n",
    "\n",
    "The upper whisker will reach to Q3 + 1.5*IQR and the lower whisker will reach to Q1 - 1.5*IQR\n",
    "\n",
    "The default of 1.5 can be changed as required, for example if it desired that the whiskers would include the absolute max and min data values of data set. \n",
    "\n"
   ]
  },
  {
   "cell_type": "markdown",
   "metadata": {},
   "source": [
    "## Outliers\n",
    "An outlier is a data point that is outside of the quartiles and outside of the whisker reach. Outliers in data sets should be investigated and understood."
   ]
  },
  {
   "cell_type": "markdown",
   "metadata": {},
   "source": [
    "# Situations where Boxplots used"
   ]
  },
  {
   "cell_type": "code",
   "execution_count": null,
   "metadata": {},
   "outputs": [],
   "source": []
  },
  {
   "cell_type": "code",
   "execution_count": null,
   "metadata": {},
   "outputs": [],
   "source": []
  },
  {
   "cell_type": "code",
   "execution_count": null,
   "metadata": {},
   "outputs": [],
   "source": []
  },
  {
   "cell_type": "code",
   "execution_count": null,
   "metadata": {},
   "outputs": [],
   "source": []
  },
  {
   "cell_type": "markdown",
   "metadata": {},
   "source": [
    "# Boxplot"
   ]
  },
  {
   "cell_type": "code",
   "execution_count": null,
   "metadata": {},
   "outputs": [],
   "source": []
  },
  {
   "cell_type": "markdown",
   "metadata": {},
   "source": [
    "# Use of Boxplots"
   ]
  },
  {
   "cell_type": "markdown",
   "metadata": {},
   "source": [
    "As a hypothetical example of where boxplots could be used, data will be generated to represent times for operations in a coffee shop. Scenario is that 100 customers passed through the coffee shop in an hour. The owner of the coffee shop simulates times, based on prior experience and knowledge, for below operations. The owner's objective is to assess the efficiency of the coffee shop. \n",
    "\n",
    "* Customer waiting\n",
    "* Staff taking orders for coffee and food\n",
    "* Staff preparing food order\n",
    "* Staff preparing coffee order\n",
    "* Serving the customer\n",
    "* Staff tidying and cleaning the work area"
   ]
  },
  {
   "cell_type": "code",
   "execution_count": 28,
   "metadata": {},
   "outputs": [],
   "source": [
    "# Import the required packages\n",
    "import matplotlib.pyplot as plt\n",
    "import numpy as np"
   ]
  },
  {
   "cell_type": "code",
   "execution_count": 29,
   "metadata": {},
   "outputs": [],
   "source": [
    "# waiting simulates the time customers waited before service, uniformly distributed between 3 and 8 minutes.\n",
    "waiting = np.random.randint(3,8,100)"
   ]
  },
  {
   "cell_type": "code",
   "execution_count": 30,
   "metadata": {},
   "outputs": [],
   "source": [
    "# order simulates the time for customers order to be taken, uniformly distributed between 1 and 6 minutes. \n",
    "order = np.random.randint(1,6,100)"
   ]
  },
  {
   "cell_type": "code",
   "execution_count": 32,
   "metadata": {},
   "outputs": [
    {
     "data": {
      "image/png": "[encoded data removed]",
      "text/plain": [
       "<Figure size 432x288 with 1 Axes>"
      ]
     },
     "metadata": {
      "needs_background": "light"
     },
     "output_type": "display_data"
    }
   ],
   "source": [
    "# prep_food simulates the time for staff to prepare customers food. A normal distrubution is used with the values squared.\n",
    "# An offset of 2 is given as this simulates the minimum time of 2 minutes required to prepare food.\n",
    "\n",
    "prep_food = (np.random.randn(100))**2+2\n",
    "\n",
    "# Plot histogram to visualise results\n",
    "plt.title(\"Time to Prepare Food\")\n",
    "plt.hist(prep_food);"
   ]
  },
  {
   "cell_type": "code",
   "execution_count": 33,
   "metadata": {},
   "outputs": [
    {
     "data": {
      "image/png": "[encoded data removed]",
      "text/plain": [
       "<Figure size 432x288 with 1 Axes>"
      ]
     },
     "metadata": {
      "needs_background": "light"
     },
     "output_type": "display_data"
    }
   ],
   "source": [
    "# prep_coffee simulates the time for staff to prepare a coffee.\n",
    "# Values are drawn from a normal distribution around a mean of 1.7 minutes and standard deviation of 0.3 minutes. \n",
    "\n",
    "prep_coffee = np.random.normal(loc=1.7,scale=0.3, size = 100)\n",
    "\n",
    "# Plot histogram to visualise results\n",
    "plt.title(\"Time to Prepare Coffee\")\n",
    "plt.hist(prep_coffee);"
   ]
  },
  {
   "cell_type": "code",
   "execution_count": 60,
   "metadata": {},
   "outputs": [],
   "source": [
    "# serve simulates the time for staff to serve coffee or food to customers, uniformly distributed between 1 and 6 minutes.\n",
    "serve = np.random.randint(1,6,100)"
   ]
  },
  {
   "cell_type": "code",
   "execution_count": 66,
   "metadata": {},
   "outputs": [
    {
     "name": "stdout",
     "output_type": "stream",
     "text": [
      "Over an hour, all staff spend a total of 20 minutes cleaning.\n",
      "The median time for cleaning per customer is 0 minutes.\n",
      "The max time for cleaning per customer is 8 minutes.\n"
     ]
    },
    {
     "data": {
      "text/plain": [
       "8.277046235244365"
      ]
     },
     "execution_count": 66,
     "metadata": {},
     "output_type": "execute_result"
    },
    {
     "data": {
      "image/png": "[encoded data removed]",
      "text/plain": [
       "<Figure size 432x288 with 1 Axes>"
      ]
     },
     "metadata": {
      "needs_background": "light"
     },
     "output_type": "display_data"
    }
   ],
   "source": [
    "# Defining seed for reproducibility\n",
    "np.random.seed(seed=25)\n",
    "\n",
    "# cleaning simulates the staff time to clean work area as orders are processed.\n",
    "# A beta function was chosen as generally no clean up is required, however there are sporadic requirements for it.\n",
    "cleaning = (np.random.beta(0.04,5,100))*40\n",
    "plt.plot(cleaning)\n",
    "\n",
    "# Print out sum, median and max values of array cleaning.\n",
    "print(\"Over an hour, all staff spend a total of%3.0f\"% np.sum(cleaning),\"minutes cleaning.\")\n",
    "print(\"The median time for cleaning per customer is%2.0f\"% np.median(cleaning),\"minutes.\")\n",
    "print(\"The max time for cleaning per customer is%2.0f\"% np.max(cleaning),\"minutes.\")\n",
    "\n"
   ]
  },
  {
   "cell_type": "code",
   "execution_count": 58,
   "metadata": {},
   "outputs": [
    {
     "data": {
      "text/plain": [
       "5.7624430143384115e-08"
      ]
     },
     "execution_count": 58,
     "metadata": {},
     "output_type": "execute_result"
    },
    {
     "data": {
      "image/png": "[encoded data removed]",
      "text/plain": [
       "<Figure size 432x288 with 1 Axes>"
      ]
     },
     "metadata": {
      "needs_background": "light"
     },
     "output_type": "display_data"
    }
   ],
   "source": [
    "plt.hist(cleaning);\n",
    "np.median(cleaning)"
   ]
  },
  {
   "cell_type": "code",
   "execution_count": null,
   "metadata": {},
   "outputs": [],
   "source": []
  },
  {
   "cell_type": "code",
   "execution_count": 49,
   "metadata": {},
   "outputs": [],
   "source": [
    "assess = [waiting, order, prep_food, prep_coffee, serve, cleaning]"
   ]
  },
  {
   "cell_type": "code",
   "execution_count": 50,
   "metadata": {},
   "outputs": [
    {
     "data": {
      "image/png": "[encoded data removed]",
      "text/plain": [
       "<Figure size 1008x576 with 1 Axes>"
      ]
     },
     "metadata": {
      "needs_background": "light"
     },
     "output_type": "display_data"
    }
   ],
   "source": [
    "\n",
    "plt.figure(figsize=(14,8))\n",
    "plt.boxplot(assess, labels = (\"waiting\", \"order\", \"prep_food\", \"prep_coffee\", \"serve\", \"cleaning\"), patch_artist= True, showmeans= True);\n",
    "plt.grid(True)"
   ]
  },
  {
   "cell_type": "code",
   "execution_count": null,
   "metadata": {},
   "outputs": [],
   "source": []
  },
  {
   "cell_type": "code",
   "execution_count": null,
   "metadata": {},
   "outputs": [],
   "source": []
  },
  {
   "cell_type": "code",
   "execution_count": null,
   "metadata": {},
   "outputs": [],
   "source": []
  },
  {
   "cell_type": "code",
   "execution_count": null,
   "metadata": {},
   "outputs": [],
   "source": []
  },
  {
   "cell_type": "markdown",
   "metadata": {},
   "source": [
    "# Relevant Terminology"
   ]
  },
  {
   "cell_type": "code",
   "execution_count": null,
   "metadata": {},
   "outputs": [],
   "source": []
  },
  {
   "cell_type": "code",
   "execution_count": null,
   "metadata": {},
   "outputs": [],
   "source": []
  },
  {
   "cell_type": "markdown",
   "metadata": {},
   "source": [
    "# Alternatives to Boxplots"
   ]
  },
  {
   "cell_type": "code",
   "execution_count": null,
   "metadata": {},
   "outputs": [],
   "source": []
  },
  {
   "cell_type": "markdown",
   "metadata": {},
   "source": [
    "# References"
   ]
  },
  {
   "cell_type": "markdown",
   "metadata": {},
   "source": [
    "1. Wikipedia, Box Plot, https://en.wikipedia.org/wiki/Box_plot\n",
    "2. 40 Years of Boxplots, Hadley Wickham and Lisa Stryjewski, http://vita.had.co.nz/papers/boxplots.pdf\n",
    "3. StackExchange, History of Boxplots, https://stats.stackexchange.com/questions/369393/whats-the-history-of-box-plots-and-how-did-the-box-and-whiskers-design-evolv\n",
    "4. Visualoop, http://visualoop.com/blog/32470/a-look-at-box-plots\n",
    "5. Understanding Boxplots, https://towardsdatascience.com/understanding-boxplots-5e2df7bcbd51\n",
    "6. Wikipedia, Interquartile Range, https://en.wikipedia.org/wiki/Interquartile_range\n"
   ]
  },
  {
   "cell_type": "code",
   "execution_count": null,
   "metadata": {},
   "outputs": [],
   "source": []
  }
 ],
 "metadata": {
  "kernelspec": {
   "display_name": "Python 3",
   "language": "python",
   "name": "python3"
  },
  "language_info": {
   "codemirror_mode": {
    "name": "ipython",
    "version": 3
   },
   "file_extension": ".py",
   "mimetype": "text/x-python",
   "name": "python",
   "nbconvert_exporter": "python",
   "pygments_lexer": "ipython3",
   "version": "3.7.0"
  }
 },
 "nbformat": 4,
 "nbformat_minor": 2
}
